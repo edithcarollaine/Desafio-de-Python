{
  "cells": [
    {
      "cell_type": "markdown",
      "metadata": {
        "id": "view-in-github",
        "colab_type": "text"
      },
      "source": [
        "<a href=\"https://colab.research.google.com/github/edithcarollaine/desafioPython/blob/main/Tratamento_de_dados%2C_kNN_e_arvore_de_decisao.ipynb\" target=\"_parent\"><img src=\"https://colab.research.google.com/assets/colab-badge.svg\" alt=\"Open In Colab\"/></a>"
      ]
    },
    {
      "cell_type": "markdown",
      "metadata": {
        "id": "P5OYlfF-Xob9"
      },
      "source": [
        "# **Tratamento de dados, árvore de decisão e aplicação com machine learning de classificação kNN de aprendizado supervisionado**"
      ]
    },
    {
      "cell_type": "markdown",
      "source": [
        "#**Importando bibliotecas**"
      ],
      "metadata": {
        "id": "pOqDBoG_PmOD"
      }
    },
    {
      "cell_type": "code",
      "execution_count": null,
      "metadata": {
        "id": "3CNg_WqXEgwV"
      },
      "outputs": [],
      "source": [
        "#Importando bibliotecas\n",
        "\n",
        "import statistics as sts\n",
        "import pandas as pd\n",
        "import seaborn as sns\n",
        "import numpy as np\n",
        "import graphviz\n",
        "from sklearn.neighbors import KNeighborsClassifier\n",
        "from sklearn.metrics import confusion_matrix, accuracy_score\n",
        "from sklearn.preprocessing import LabelEncoder\n",
        "from sklearn.tree import DecisionTreeClassifier\n",
        "from sklearn.model_selection import train_test_split\n",
        "from sklearn.tree import export_graphviz\n",
        "from sklearn import neighbors\n",
        "from sklearn.metrics import mean_squared_error\n",
        "from math import sqrt"
      ]
    },
    {
      "cell_type": "markdown",
      "metadata": {
        "id": "YTvFVyLdfyKq"
      },
      "source": [
        "# **Tratamento de dados**\n"
      ]
    },
    {
      "cell_type": "markdown",
      "source": [
        "Importando dataset e criando DataFrame"
      ],
      "metadata": {
        "id": "CZIMW3XoRTbm"
      }
    },
    {
      "cell_type": "code",
      "execution_count": null,
      "metadata": {
        "id": "dr52MEW7E_XQ"
      },
      "outputs": [],
      "source": [
        "data = pd.read_csv(\"breast-cancer-wisconsin.data\", sep=\",\")\n",
        "data.columns = ['Sample code', 'Clump Thickness', 'Uniformity of Cell Size', 'Uniformity of Cell Shape',\n",
        "                'Marginal Adhesion', 'Single Epithelial Cell Size', 'Bare Nuclei', 'Bland Chromatin',\n",
        "                'Normal Nucleoli', 'Mitoses','Class']\n",
        "data.head()"
      ]
    },
    {
      "cell_type": "code",
      "execution_count": null,
      "metadata": {
        "id": "oYkZ52QRE4tD"
      },
      "outputs": [],
      "source": [
        "def group(coluna):\n",
        "    grupo = data.groupby([coluna]).size()\n",
        "    return grupo\n",
        "\n",
        "def descrever(coluna):\n",
        "    result = data[coluna].describe()\n",
        "    return result"
      ]
    },
    {
      "cell_type": "code",
      "execution_count": null,
      "metadata": {
        "id": "Az3j28ZjkyKZ"
      },
      "outputs": [],
      "source": [
        "# Sample code pode ser removido ou pode ser mantido, pois ele não interefere no resultado que queremos.\n",
        "# mas caso queira retirar a coluna, utilize o código abaixo que está comentado.\n",
        "#data = data.drop(columns=[\"Sample code\"])\n",
        "#data.head()"
      ]
    },
    {
      "cell_type": "code",
      "execution_count": null,
      "metadata": {
        "id": "E--c3UGTGRFL"
      },
      "outputs": [],
      "source": [
        "# Verificando dados ausentes\n",
        "data.isin([\"?\"]).sum()"
      ]
    },
    {
      "cell_type": "code",
      "source": [
        "# Verificando dados NaN. Neste dataset não possui, contudo a verificação é importante para um melhor tratamento dos dataset.\n",
        "\n",
        "data.isnull().sum()"
      ],
      "metadata": {
        "id": "si1zVWA_FrFu"
      },
      "execution_count": null,
      "outputs": []
    },
    {
      "cell_type": "code",
      "source": [
        "# Usando esssa função data.info(), podemos verificar que a coluna Bare Nuclei é do tipo object, logo para calcular mediana\n",
        "# devemos fazer a conversão para o tipo int64.\n",
        "data.info()\n",
        "\n",
        "# Mudando o tipo da coluna\n",
        "data['Bare Nuclei'] = data['Bare Nuclei'].astype(int)\n",
        "\n",
        "# Mudando os dados ausentes (?) para 0, lembrando que também poderiamos simplesmente apaga-los do nosso dataset.\n",
        "data.loc[data['Bare Nuclei'] == '?', 'Bare Nuclei'] = 0\n",
        "\n",
        "# Cálculo da mediana e aplicação aos dados vazios substituidos\n",
        "mediana = sts.median(data['Bare Nuclei'])\n",
        "data.loc[data['Bare Nuclei'] == 0, 'Bare Nuclei']= mediana"
      ],
      "metadata": {
        "id": "HtHWqxQYGB-c"
      },
      "execution_count": null,
      "outputs": []
    },
    {
      "cell_type": "code",
      "source": [
        "# Verificando se ainda existem valores vazios\n",
        "data.isin(['?']).sum()"
      ],
      "metadata": {
        "id": "HXLQf1zTJmtX"
      },
      "execution_count": null,
      "outputs": []
    },
    {
      "cell_type": "markdown",
      "metadata": {
        "id": "kXnFMI_kwYTf"
      },
      "source": [
        "# **Utilizando os dataset já tratado, vamos iniciar os testes de previsors e class**"
      ]
    },
    {
      "cell_type": "code",
      "execution_count": null,
      "metadata": {
        "id": "_p0N2IRebHz5"
      },
      "outputs": [],
      "source": [
        "#Separando as colunas de previsores. 0 até 8.\n",
        "previsors = data.iloc[:,0:8].values\n",
        "\n",
        "#Separando a coluna 9.\n",
        "classes = data.iloc[:,9].values"
      ]
    },
    {
      "cell_type": "code",
      "execution_count": null,
      "metadata": {
        "id": "8UebdbrmiSj4"
      },
      "outputs": [],
      "source": [
        "# Essa função abaixo fará os testes e os treinamentos\n",
        "\n",
        "XTraining, XTest, YTraining, YTest = train_test_split(previsors, classes, test_size = 0.3, random_state = 0)\n",
        "#XTraining, XTest, YTraining, YTest"
      ]
    },
    {
      "cell_type": "markdown",
      "metadata": {
        "id": "vZVu9w7Hf5iH"
      },
      "source": [
        "# **Árvore de decisão**"
      ]
    },
    {
      "cell_type": "code",
      "execution_count": null,
      "metadata": {
        "colab": {
          "base_uri": "https://localhost:8080/",
          "height": 52
        },
        "id": "8UDnUcQzoR0Y",
        "outputId": "b12293ca-6dd4-43bd-c4db-dd932f432ec6"
      },
      "outputs": [
        {
          "output_type": "execute_result",
          "data": {
            "text/plain": [
              "DecisionTreeClassifier()"
            ],
            "text/html": [
              "<style>#sk-container-id-6 {color: black;background-color: white;}#sk-container-id-6 pre{padding: 0;}#sk-container-id-6 div.sk-toggleable {background-color: white;}#sk-container-id-6 label.sk-toggleable__label {cursor: pointer;display: block;width: 100%;margin-bottom: 0;padding: 0.3em;box-sizing: border-box;text-align: center;}#sk-container-id-6 label.sk-toggleable__label-arrow:before {content: \"▸\";float: left;margin-right: 0.25em;color: #696969;}#sk-container-id-6 label.sk-toggleable__label-arrow:hover:before {color: black;}#sk-container-id-6 div.sk-estimator:hover label.sk-toggleable__label-arrow:before {color: black;}#sk-container-id-6 div.sk-toggleable__content {max-height: 0;max-width: 0;overflow: hidden;text-align: left;background-color: #f0f8ff;}#sk-container-id-6 div.sk-toggleable__content pre {margin: 0.2em;color: black;border-radius: 0.25em;background-color: #f0f8ff;}#sk-container-id-6 input.sk-toggleable__control:checked~div.sk-toggleable__content {max-height: 200px;max-width: 100%;overflow: auto;}#sk-container-id-6 input.sk-toggleable__control:checked~label.sk-toggleable__label-arrow:before {content: \"▾\";}#sk-container-id-6 div.sk-estimator input.sk-toggleable__control:checked~label.sk-toggleable__label {background-color: #d4ebff;}#sk-container-id-6 div.sk-label input.sk-toggleable__control:checked~label.sk-toggleable__label {background-color: #d4ebff;}#sk-container-id-6 input.sk-hidden--visually {border: 0;clip: rect(1px 1px 1px 1px);clip: rect(1px, 1px, 1px, 1px);height: 1px;margin: -1px;overflow: hidden;padding: 0;position: absolute;width: 1px;}#sk-container-id-6 div.sk-estimator {font-family: monospace;background-color: #f0f8ff;border: 1px dotted black;border-radius: 0.25em;box-sizing: border-box;margin-bottom: 0.5em;}#sk-container-id-6 div.sk-estimator:hover {background-color: #d4ebff;}#sk-container-id-6 div.sk-parallel-item::after {content: \"\";width: 100%;border-bottom: 1px solid gray;flex-grow: 1;}#sk-container-id-6 div.sk-label:hover label.sk-toggleable__label {background-color: #d4ebff;}#sk-container-id-6 div.sk-serial::before {content: \"\";position: absolute;border-left: 1px solid gray;box-sizing: border-box;top: 0;bottom: 0;left: 50%;z-index: 0;}#sk-container-id-6 div.sk-serial {display: flex;flex-direction: column;align-items: center;background-color: white;padding-right: 0.2em;padding-left: 0.2em;position: relative;}#sk-container-id-6 div.sk-item {position: relative;z-index: 1;}#sk-container-id-6 div.sk-parallel {display: flex;align-items: stretch;justify-content: center;background-color: white;position: relative;}#sk-container-id-6 div.sk-item::before, #sk-container-id-6 div.sk-parallel-item::before {content: \"\";position: absolute;border-left: 1px solid gray;box-sizing: border-box;top: 0;bottom: 0;left: 50%;z-index: -1;}#sk-container-id-6 div.sk-parallel-item {display: flex;flex-direction: column;z-index: 1;position: relative;background-color: white;}#sk-container-id-6 div.sk-parallel-item:first-child::after {align-self: flex-end;width: 50%;}#sk-container-id-6 div.sk-parallel-item:last-child::after {align-self: flex-start;width: 50%;}#sk-container-id-6 div.sk-parallel-item:only-child::after {width: 0;}#sk-container-id-6 div.sk-dashed-wrapped {border: 1px dashed gray;margin: 0 0.4em 0.5em 0.4em;box-sizing: border-box;padding-bottom: 0.4em;background-color: white;}#sk-container-id-6 div.sk-label label {font-family: monospace;font-weight: bold;display: inline-block;line-height: 1.2em;}#sk-container-id-6 div.sk-label-container {text-align: center;}#sk-container-id-6 div.sk-container {/* jupyter's `normalize.less` sets `[hidden] { display: none; }` but bootstrap.min.css set `[hidden] { display: none !important; }` so we also need the `!important` here to be able to override the default hidden behavior on the sphinx rendered scikit-learn.org. See: https://github.com/scikit-learn/scikit-learn/issues/21755 */display: inline-block !important;position: relative;}#sk-container-id-6 div.sk-text-repr-fallback {display: none;}</style><div id=\"sk-container-id-6\" class=\"sk-top-container\"><div class=\"sk-text-repr-fallback\"><pre>DecisionTreeClassifier()</pre><b>In a Jupyter environment, please rerun this cell to show the HTML representation or trust the notebook. <br />On GitHub, the HTML representation is unable to render, please try loading this page with nbviewer.org.</b></div><div class=\"sk-container\" hidden><div class=\"sk-item\"><div class=\"sk-estimator sk-toggleable\"><input class=\"sk-toggleable__control sk-hidden--visually\" id=\"sk-estimator-id-6\" type=\"checkbox\" checked><label for=\"sk-estimator-id-6\" class=\"sk-toggleable__label sk-toggleable__label-arrow\">DecisionTreeClassifier</label><div class=\"sk-toggleable__content\"><pre>DecisionTreeClassifier()</pre></div></div></div></div></div>"
            ]
          },
          "metadata": {},
          "execution_count": 89
        }
      ],
      "source": [
        "tree = DecisionTreeClassifier()\n",
        "tree.fit(XTraining,YTraining)"
      ]
    },
    {
      "cell_type": "code",
      "execution_count": null,
      "metadata": {
        "id": "8MfHgFI1qjsA"
      },
      "outputs": [],
      "source": [
        "# Previsão da árvore\n",
        "previsao = tree.predict(XTest)\n",
        "previsao"
      ]
    },
    {
      "cell_type": "code",
      "execution_count": null,
      "metadata": {
        "colab": {
          "base_uri": "https://localhost:8080/"
        },
        "id": "VuGG_7DMq60K",
        "outputId": "5b013fe0-a0b2-470c-a68b-10a21a3cf8c8"
      },
      "outputs": [
        {
          "output_type": "stream",
          "name": "stdout",
          "text": [
            "Taxa de precisão: 94.76%\n"
          ]
        }
      ],
      "source": [
        "#Taxa de precisão\n",
        "precisao = accuracy_score(YTest,previsao)\n",
        "precisao\n",
        "print(f'Taxa de precisão: {precisao:.2%}')"
      ]
    },
    {
      "cell_type": "markdown",
      "metadata": {
        "id": "rKi3es5HvrSc"
      },
      "source": [
        "# **Modelo kNN**"
      ]
    },
    {
      "cell_type": "code",
      "execution_count": null,
      "metadata": {
        "colab": {
          "base_uri": "https://localhost:8080/",
          "height": 75
        },
        "id": "LoxsJ3thvyR0",
        "outputId": "7919c743-5dd4-4278-b543-b5edbb8c4c6b"
      },
      "outputs": [
        {
          "output_type": "execute_result",
          "data": {
            "text/plain": [
              "KNeighborsClassifier(n_neighbors=3)"
            ],
            "text/html": [
              "<style>#sk-container-id-12 {color: black;background-color: white;}#sk-container-id-12 pre{padding: 0;}#sk-container-id-12 div.sk-toggleable {background-color: white;}#sk-container-id-12 label.sk-toggleable__label {cursor: pointer;display: block;width: 100%;margin-bottom: 0;padding: 0.3em;box-sizing: border-box;text-align: center;}#sk-container-id-12 label.sk-toggleable__label-arrow:before {content: \"▸\";float: left;margin-right: 0.25em;color: #696969;}#sk-container-id-12 label.sk-toggleable__label-arrow:hover:before {color: black;}#sk-container-id-12 div.sk-estimator:hover label.sk-toggleable__label-arrow:before {color: black;}#sk-container-id-12 div.sk-toggleable__content {max-height: 0;max-width: 0;overflow: hidden;text-align: left;background-color: #f0f8ff;}#sk-container-id-12 div.sk-toggleable__content pre {margin: 0.2em;color: black;border-radius: 0.25em;background-color: #f0f8ff;}#sk-container-id-12 input.sk-toggleable__control:checked~div.sk-toggleable__content {max-height: 200px;max-width: 100%;overflow: auto;}#sk-container-id-12 input.sk-toggleable__control:checked~label.sk-toggleable__label-arrow:before {content: \"▾\";}#sk-container-id-12 div.sk-estimator input.sk-toggleable__control:checked~label.sk-toggleable__label {background-color: #d4ebff;}#sk-container-id-12 div.sk-label input.sk-toggleable__control:checked~label.sk-toggleable__label {background-color: #d4ebff;}#sk-container-id-12 input.sk-hidden--visually {border: 0;clip: rect(1px 1px 1px 1px);clip: rect(1px, 1px, 1px, 1px);height: 1px;margin: -1px;overflow: hidden;padding: 0;position: absolute;width: 1px;}#sk-container-id-12 div.sk-estimator {font-family: monospace;background-color: #f0f8ff;border: 1px dotted black;border-radius: 0.25em;box-sizing: border-box;margin-bottom: 0.5em;}#sk-container-id-12 div.sk-estimator:hover {background-color: #d4ebff;}#sk-container-id-12 div.sk-parallel-item::after {content: \"\";width: 100%;border-bottom: 1px solid gray;flex-grow: 1;}#sk-container-id-12 div.sk-label:hover label.sk-toggleable__label {background-color: #d4ebff;}#sk-container-id-12 div.sk-serial::before {content: \"\";position: absolute;border-left: 1px solid gray;box-sizing: border-box;top: 0;bottom: 0;left: 50%;z-index: 0;}#sk-container-id-12 div.sk-serial {display: flex;flex-direction: column;align-items: center;background-color: white;padding-right: 0.2em;padding-left: 0.2em;position: relative;}#sk-container-id-12 div.sk-item {position: relative;z-index: 1;}#sk-container-id-12 div.sk-parallel {display: flex;align-items: stretch;justify-content: center;background-color: white;position: relative;}#sk-container-id-12 div.sk-item::before, #sk-container-id-12 div.sk-parallel-item::before {content: \"\";position: absolute;border-left: 1px solid gray;box-sizing: border-box;top: 0;bottom: 0;left: 50%;z-index: -1;}#sk-container-id-12 div.sk-parallel-item {display: flex;flex-direction: column;z-index: 1;position: relative;background-color: white;}#sk-container-id-12 div.sk-parallel-item:first-child::after {align-self: flex-end;width: 50%;}#sk-container-id-12 div.sk-parallel-item:last-child::after {align-self: flex-start;width: 50%;}#sk-container-id-12 div.sk-parallel-item:only-child::after {width: 0;}#sk-container-id-12 div.sk-dashed-wrapped {border: 1px dashed gray;margin: 0 0.4em 0.5em 0.4em;box-sizing: border-box;padding-bottom: 0.4em;background-color: white;}#sk-container-id-12 div.sk-label label {font-family: monospace;font-weight: bold;display: inline-block;line-height: 1.2em;}#sk-container-id-12 div.sk-label-container {text-align: center;}#sk-container-id-12 div.sk-container {/* jupyter's `normalize.less` sets `[hidden] { display: none; }` but bootstrap.min.css set `[hidden] { display: none !important; }` so we also need the `!important` here to be able to override the default hidden behavior on the sphinx rendered scikit-learn.org. See: https://github.com/scikit-learn/scikit-learn/issues/21755 */display: inline-block !important;position: relative;}#sk-container-id-12 div.sk-text-repr-fallback {display: none;}</style><div id=\"sk-container-id-12\" class=\"sk-top-container\"><div class=\"sk-text-repr-fallback\"><pre>KNeighborsClassifier(n_neighbors=3)</pre><b>In a Jupyter environment, please rerun this cell to show the HTML representation or trust the notebook. <br />On GitHub, the HTML representation is unable to render, please try loading this page with nbviewer.org.</b></div><div class=\"sk-container\" hidden><div class=\"sk-item\"><div class=\"sk-estimator sk-toggleable\"><input class=\"sk-toggleable__control sk-hidden--visually\" id=\"sk-estimator-id-12\" type=\"checkbox\" checked><label for=\"sk-estimator-id-12\" class=\"sk-toggleable__label sk-toggleable__label-arrow\">KNeighborsClassifier</label><div class=\"sk-toggleable__content\"><pre>KNeighborsClassifier(n_neighbors=3)</pre></div></div></div></div></div>"
            ]
          },
          "metadata": {},
          "execution_count": 126
        }
      ],
      "source": [
        "# Classificação por kNN\n",
        "\n",
        "modelo = KNeighborsClassifier(n_neighbors = 3)\n",
        "modelo.fit(XTraining,YTraining)"
      ]
    },
    {
      "cell_type": "code",
      "execution_count": null,
      "metadata": {
        "colab": {
          "base_uri": "https://localhost:8080/"
        },
        "id": "lwXDpIJAxrub",
        "outputId": "76b5741b-559a-4a5c-d069-292256ed3d53"
      },
      "outputs": [
        {
          "output_type": "execute_result",
          "data": {
            "text/plain": [
              "array([4, 2, 4, 4, 2, 2, 4, 2, 2, 2, 2, 2, 2, 2, 2, 2, 2, 2, 4, 4, 2, 4,\n",
              "       4, 4, 2, 4, 4, 4, 2, 2, 4, 2, 2, 2, 2, 2, 2, 4, 2, 2, 2, 2, 2, 4,\n",
              "       4, 4, 2, 4, 2, 4, 2, 2, 2, 4, 2, 2, 2, 2, 2, 4, 4, 4, 4, 4, 2, 4,\n",
              "       4, 2, 4, 4, 2, 2, 4, 2, 2, 2, 4, 2, 4, 2, 4, 2, 2, 2, 2, 2, 4, 2,\n",
              "       2, 4, 4, 4, 2, 4, 2, 4, 2, 2, 2, 2, 4, 4, 4, 4, 2, 2, 4, 2, 2, 2,\n",
              "       2, 4, 2, 2, 4, 2, 4, 2, 2, 4, 2, 2, 4, 4, 4, 2, 2, 4, 2, 2, 4, 4,\n",
              "       2, 4, 2, 2, 2, 2, 4, 4, 2, 2, 4, 4, 2, 2, 2, 4, 2, 2, 2, 4, 2, 4,\n",
              "       2, 2, 2, 2, 4, 4, 4, 2, 2, 2, 4, 2, 2, 2, 4, 2, 2, 2, 2, 4, 4, 2,\n",
              "       4, 2, 2, 2, 2, 2, 4, 2, 4, 2, 2, 4, 4, 2, 2, 4, 2, 2, 2, 2, 4, 4,\n",
              "       2, 2, 2, 2, 2, 2, 2, 2, 4, 4, 2, 2])"
            ]
          },
          "metadata": {},
          "execution_count": 132
        }
      ],
      "source": [
        "# Fazendo previsão no conjunto de testes\n",
        "\n",
        "pred = modelo.predict(XTest)\n",
        "pred"
      ]
    },
    {
      "cell_type": "code",
      "source": [
        "# Taxa de erro para diferentes valores de k\n",
        "\n",
        "rmse_valor = [] # para armazenar valores rmse para diferentes K\n",
        "for K in range(20):\n",
        "    K = K+1\n",
        "    modelo = neighbors.KNeighborsRegressor(n_neighbors = K)\n",
        "    modelo.fit(XTraining, YTraining)  # ajustando modelo\n",
        "    pred = modelo.predict(XTest) #fazer previsão no conjunto de testes\n",
        "    error = sqrt(mean_squared_error(YTest, pred)) #calcula rmse\n",
        "    rmse_valor.append(error) #armazena valores rmse\n",
        "    print('Valor RMSE para k = ' , K , 'é:', error)\n",
        ""
      ],
      "metadata": {
        "colab": {
          "base_uri": "https://localhost:8080/"
        },
        "id": "0KP_OKgtQ-fo",
        "outputId": "403a5a4d-9c75-4c7b-ecb6-af14fd2751dc"
      },
      "execution_count": null,
      "outputs": [
        {
          "output_type": "stream",
          "name": "stdout",
          "text": [
            "Valor RMSE para k =  1 é: 0.45773770821706344\n",
            "Valor RMSE para k =  2 é: 0.3779644730092272\n",
            "Valor RMSE para k =  3 é: 0.3349168735213443\n",
            "Valor RMSE para k =  4 é: 0.3124404705204619\n",
            "Valor RMSE para k =  5 é: 0.2934199006462208\n",
            "Valor RMSE para k =  6 é: 0.31539007509891537\n",
            "Valor RMSE para k =  7 é: 0.32216468997014064\n",
            "Valor RMSE para k =  8 é: 0.30423596731735025\n",
            "Valor RMSE para k =  9 é: 0.31426968052735443\n",
            "Valor RMSE para k =  10 é: 0.3147183169877773\n",
            "Valor RMSE para k =  11 é: 0.32427681170567235\n",
            "Valor RMSE para k =  12 é: 0.3299430767002603\n",
            "Valor RMSE para k =  13 é: 0.3301339840882576\n",
            "Valor RMSE para k =  14 é: 0.3344490559709274\n",
            "Valor RMSE para k =  15 é: 0.33174223435207956\n",
            "Valor RMSE para k =  16 é: 0.33217805753053875\n",
            "Valor RMSE para k =  17 é: 0.33285515215337086\n",
            "Valor RMSE para k =  18 é: 0.33623079333172284\n",
            "Valor RMSE para k =  19 é: 0.34085950161570905\n",
            "Valor RMSE para k =  20 é: 0.33876526498728404\n"
          ]
        }
      ]
    },
    {
      "cell_type": "code",
      "source": [
        "curva = pd.DataFrame(rmse_valor) #Curva\n",
        "curva.plot()"
      ],
      "metadata": {
        "colab": {
          "base_uri": "https://localhost:8080/",
          "height": 282
        },
        "id": "KIKqqM8YTnjP",
        "outputId": "1c21f1b3-547f-451b-8d5c-5b41a261bf08"
      },
      "execution_count": null,
      "outputs": [
        {
          "output_type": "execute_result",
          "data": {
            "text/plain": [
              "<AxesSubplot:>"
            ]
          },
          "metadata": {},
          "execution_count": 148
        },
        {
          "output_type": "display_data",
          "data": {
            "text/plain": [
              "<Figure size 432x288 with 1 Axes>"
            ],
            "image/png": "[encoded data removed]"
          },
          "metadata": {
            "needs_background": "light"
          }
        }
      ]
    },
    {
      "cell_type": "code",
      "execution_count": null,
      "metadata": {
        "colab": {
          "base_uri": "https://localhost:8080/"
        },
        "id": "m0zFVtX01LAD",
        "outputId": "b28462ce-9a2c-45e2-a89c-e1d37afdcbd2"
      },
      "outputs": [
        {
          "output_type": "stream",
          "name": "stdout",
          "text": [
            "Acurácia: 97.14%\n"
          ]
        }
      ],
      "source": [
        "# Acurácia\n",
        "\n",
        "acuracia = accuracy_score(YTest, pred)\n",
        "acuracia\n",
        "print(f'Acurácia: {acuracia:.2%}')"
      ]
    }
  ],
  "metadata": {
    "colab": {
      "provenance": [],
      "include_colab_link": true
    },
    "kernelspec": {
      "display_name": "Python 3",
      "name": "python3"
    },
    "language_info": {
      "name": "python"
    }
  },
  "nbformat": 4,
  "nbformat_minor": 0
}