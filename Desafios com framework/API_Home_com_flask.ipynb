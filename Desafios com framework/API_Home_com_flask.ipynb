{
  "cells": [
    {
      "cell_type": "markdown",
      "metadata": {
        "id": "view-in-github",
        "colab_type": "text"
      },
      "source": [
        "<a href=\"https://colab.research.google.com/github/edithcarollaine/desafioPython/blob/main/API_Home_com_flask.ipynb\" target=\"_parent\"><img src=\"https://colab.research.google.com/assets/colab-badge.svg\" alt=\"Open In Colab\"/></a>"
      ]
    },
    {
      "cell_type": "code",
      "execution_count": null,
      "metadata": {
        "id": "-CkRYaxLWppX"
      },
      "outputs": [],
      "source": [
        "!pip install flask\n",
        "!pip install flask-ngrok\n",
        "!pip install fastapi nest-asyncio pyngrok uvicorn"
      ]
    },
    {
      "cell_type": "code",
      "execution_count": null,
      "metadata": {
        "id": "8lkxU4U_gqKM"
      },
      "outputs": [],
      "source": [
        "import pandas as pd\n",
        "import json\n",
        "\n",
        "info = [{\n",
        "        'numero': 1,\n",
        "        'nome': 'Alex',\n",
        "        'idade' : '25',\n",
        "        'cidade': 'Toronto',\n",
        "        'pais': 'Canada',\n",
        "},\n",
        "       {\n",
        "        'numero': 2,\n",
        "        'nome': 'David',\n",
        "        'idade' : '26',\n",
        "        'cidade': 'San Francisco',\n",
        "        'pais': 'USA',\n",
        "       },\n",
        "        {\n",
        "        'numero': 3,\n",
        "        'nome': 'Mateus',\n",
        "        'idade' : '27',\n",
        "        'cidade': 'Paris',\n",
        "        'pais': 'Franca',\n",
        "        },\n",
        "        {\n",
        "        'numero': 4,\n",
        "        'nome': 'Marcos',\n",
        "        'idade' : '28',\n",
        "        'cidade': 'Londres',\n",
        "        'pais': 'UK',\n",
        "},\n",
        "       {\n",
        "        'numero': 5,\n",
        "        'nome': 'Matias',\n",
        "        'idade' : '29',\n",
        "        'cidade': 'Bangalore',\n",
        "        'pais': 'India',\n",
        "}]\n",
        "\n",
        "\n",
        "with open('dados.json', 'w') as arquivo:\n",
        "    arquivo.write(json.dumps(info))"
      ]
    },
    {
      "cell_type": "code",
      "execution_count": null,
      "metadata": {
        "id": "HrhtvUY5C8Z0"
      },
      "outputs": [],
      "source": [
        "with open('dados.json', 'r') as arquivo:\n",
        "    texto = arquivo.read()\n",
        "    dados = json.loads(texto)"
      ]
    },
    {
      "cell_type": "code",
      "execution_count": null,
      "metadata": {
        "colab": {
          "base_uri": "https://localhost:8080/"
        },
        "id": "ZWPdkG3a_860",
        "outputId": "89eca062-ce84-4aa3-9c0b-f10a24094a8b"
      },
      "outputs": [
        {
          "name": "stdout",
          "output_type": "stream",
          "text": [
            "Matias\n"
          ]
        }
      ],
      "source": [
        "with open('dados.json', 'r') as arquivo:\n",
        "    texto = arquivo.read()\n",
        "    dados = json.loads(texto)\n",
        "print(dados['nome'])"
      ]
    },
    {
      "cell_type": "code",
      "execution_count": null,
      "metadata": {
        "colab": {
          "background_save": true,
          "base_uri": "https://localhost:8080/"
        },
        "id": "VFo7Y0glVEoJ",
        "outputId": "1513981e-b564-44f3-aa5c-5cc7f6dfde3c"
      },
      "outputs": [
        {
          "name": "stderr",
          "output_type": "stream",
          "text": [
            "WARNING:pyngrok.process.ngrok:t=2023-12-17T00:17:03+0000 lvl=warn msg=\"Your agent is deprecated. Please update at your earliest convenience.\" obj=tunnels.session extra=\"\\nWARNING: Usage of ngrok will soon require a verified account and authtoken.\\nSign up for an account: https://dashboard.ngrok.com/signup\\nInstall your authtoken: https://dashboard.ngrok.com/get-started/your-authtoken\"\n"
          ]
        },
        {
          "name": "stdout",
          "output_type": "stream",
          "text": [
            "Public URL: https://5152-35-243-194-231.ngrok.io\n"
          ]
        },
        {
          "name": "stderr",
          "output_type": "stream",
          "text": [
            "INFO:     Started server process [160]\n",
            "INFO:     Waiting for application startup.\n",
            "INFO:     Application startup complete.\n",
            "INFO:     Uvicorn running on http://127.0.0.1:8000 (Press CTRL+C to quit)\n"
          ]
        },
        {
          "name": "stdout",
          "output_type": "stream",
          "text": [
            "INFO:     2804:2468:48d9:7600:e09c:a86b:7be0:152e:0 - \"GET / HTTP/1.1\" 404 Not Found\n",
            "INFO:     2804:2468:48d9:7600:e09c:a86b:7be0:152e:0 - \"GET /favicon.ico HTTP/1.1\" 404 Not Found\n",
            "INFO:     2804:2468:48d9:7600:e09c:a86b:7be0:152e:0 - \"GET /index HTTP/1.1\" 200 OK\n",
            "INFO:     2804:2468:48d9:7600:e09c:a86b:7be0:152e:0 - \"GET / HTTP/1.1\" 404 Not Found\n",
            "INFO:     2804:2468:48d9:7600:e09c:a86b:7be0:152e:0 - \"GET /index HTTP/1.1\" 200 OK\n"
          ]
        }
      ],
      "source": [
        "from fastapi import FastAPI\n",
        "import nest_asyncio\n",
        "from pyngrok import ngrok\n",
        "import uvicorn\n",
        "\n",
        "app = FastAPI()\n",
        "\n",
        "@app.get('/index')\n",
        "async def index():\n",
        "  return (info)\n",
        "\n",
        "ngrok_tunnel = ngrok.connect(8000)\n",
        "print('Public URL:', ngrok_tunnel.public_url)\n",
        "nest_asyncio.apply()\n",
        "uvicorn.run(app, port=8000)"
      ]
    }
  ],
  "metadata": {
    "colab": {
      "provenance": [],
      "authorship_tag": "ABX9TyMdeh/k2D0Rv5nQfWhBS/pz",
      "include_colab_link": true
    },
    "kernelspec": {
      "display_name": "Python 3",
      "name": "python3"
    },
    "language_info": {
      "name": "python"
    }
  },
  "nbformat": 4,
  "nbformat_minor": 0
}